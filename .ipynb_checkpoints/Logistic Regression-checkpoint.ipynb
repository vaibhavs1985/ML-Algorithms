{
 "cells": [
  {
   "cell_type": "code",
   "execution_count": 4,
   "id": "54b453e2",
   "metadata": {},
   "outputs": [],
   "source": [
    "import numpy as np"
   ]
  },
  {
   "cell_type": "code",
   "execution_count": 5,
   "id": "24a9cdc0",
   "metadata": {},
   "outputs": [],
   "source": [
    "N = 100 # no. of training samples\n",
    "D = 2 # no. of features"
   ]
  },
  {
   "cell_type": "code",
   "execution_count": 11,
   "id": "8a942970",
   "metadata": {},
   "outputs": [
    {
     "data": {
      "text/plain": [
       "(100, 2)"
      ]
     },
     "execution_count": 11,
     "metadata": {},
     "output_type": "execute_result"
    }
   ],
   "source": [
    "X = np.random.randn(N,D)\n",
    "X.shape"
   ]
  },
  {
   "cell_type": "code",
   "execution_count": 14,
   "id": "78faf5fd",
   "metadata": {},
   "outputs": [
    {
     "data": {
      "text/plain": [
       "(100, 1)"
      ]
     },
     "execution_count": 14,
     "metadata": {},
     "output_type": "execute_result"
    }
   ],
   "source": [
    "ones = np.full((N,1),1) # This is the bias term which is set to 1 for the w0 weight factor.\n",
    "ones.shape"
   ]
  },
  {
   "cell_type": "code",
   "execution_count": 10,
   "id": "69989010",
   "metadata": {},
   "outputs": [
    {
     "data": {
      "text/plain": [
       "(100, 3)"
      ]
     },
     "execution_count": 10,
     "metadata": {},
     "output_type": "execute_result"
    }
   ],
   "source": [
    "Xb = np.concatenate((ones, X), axis=1) # axis=1 means add columnwise\n",
    "Xb.shape"
   ]
  },
  {
   "cell_type": "code",
   "execution_count": 12,
   "id": "1eb58b57",
   "metadata": {},
   "outputs": [],
   "source": [
    "w = np.random.randn(D+1) # Need D+1 weight factors due to the extra bias column concatenated above."
   ]
  },
  {
   "cell_type": "code",
   "execution_count": 15,
   "id": "e895e21b",
   "metadata": {},
   "outputs": [],
   "source": [
    "z = Xb.dot(w)"
   ]
  },
  {
   "cell_type": "code",
   "execution_count": 16,
   "id": "a342e3fc",
   "metadata": {},
   "outputs": [],
   "source": [
    "def sigmoid(z):\n",
    "    return 1/(1+np.exp(-z))"
   ]
  },
  {
   "cell_type": "code",
   "execution_count": 19,
   "id": "ee1a0fc4",
   "metadata": {},
   "outputs": [
    {
     "name": "stdout",
     "output_type": "stream",
     "text": [
      "[0.38908282 0.84975553 0.29876352 0.81935315 0.7413765  0.49803509\n",
      " 0.15465713 0.15560659 0.75224573 0.34526851 0.09125228 0.30837193\n",
      " 0.9883662  0.47270439 0.15406823 0.16060101 0.35176064 0.26414844\n",
      " 0.27300044 0.6562736  0.83608473 0.38337407 0.4883701  0.31086127\n",
      " 0.17318361 0.64356622 0.4400452  0.90740891 0.62076836 0.81316379\n",
      " 0.53757171 0.6979713  0.78333236 0.50333974 0.65465823 0.54063148\n",
      " 0.77852187 0.68433797 0.06534557 0.66621053 0.78429916 0.76725641\n",
      " 0.69754235 0.41978239 0.53033403 0.56367474 0.30551134 0.50204195\n",
      " 0.33472439 0.65919655 0.57015766 0.43876547 0.88573844 0.95201791\n",
      " 0.33325778 0.88162805 0.95333572 0.85863657 0.23219773 0.88632957\n",
      " 0.78822633 0.23473413 0.498448   0.6295012  0.96301051 0.52596195\n",
      " 0.85626636 0.35504202 0.79967183 0.49472923 0.19806122 0.11973736\n",
      " 0.32245175 0.38757286 0.5938465  0.9666807  0.87930319 0.89991694\n",
      " 0.56820409 0.81919099 0.35203131 0.76938771 0.30441191 0.59816991\n",
      " 0.14531823 0.77430409 0.45290401 0.43661368 0.15774113 0.73072151\n",
      " 0.75465131 0.71372987 0.56377923 0.49443984 0.11341193 0.89158926\n",
      " 0.48658884 0.17087086 0.22432275 0.92510014]\n"
     ]
    }
   ],
   "source": [
    "print(sigmoid(z))"
   ]
  },
  {
   "cell_type": "code",
   "execution_count": null,
   "id": "3bcc46be",
   "metadata": {},
   "outputs": [],
   "source": []
  }
 ],
 "metadata": {
  "kernelspec": {
   "display_name": "Python 3",
   "language": "python",
   "name": "python3"
  },
  "language_info": {
   "codemirror_mode": {
    "name": "ipython",
    "version": 3
   },
   "file_extension": ".py",
   "mimetype": "text/x-python",
   "name": "python",
   "nbconvert_exporter": "python",
   "pygments_lexer": "ipython3",
   "version": "3.8.8"
  }
 },
 "nbformat": 4,
 "nbformat_minor": 5
}
