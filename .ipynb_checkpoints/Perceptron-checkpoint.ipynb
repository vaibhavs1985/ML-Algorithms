{
 "cells": [
  {
   "cell_type": "code",
   "execution_count": 4,
   "id": "bf30b714",
   "metadata": {},
   "outputs": [],
   "source": [
    "import numpy as np\n",
    "import matplotlib.pyplot as plt\n",
    "from sklearn import datasets"
   ]
  },
  {
   "cell_type": "code",
   "execution_count": 5,
   "id": "97633df9",
   "metadata": {},
   "outputs": [],
   "source": [
    "def unit_step_function(Z):\n",
    "    return np.where(Z>=0, 1,0)"
   ]
  },
  {
   "cell_type": "code",
   "execution_count": 6,
   "id": "672892a8",
   "metadata": {},
   "outputs": [],
   "source": [
    "def predict(X, W, b):\n",
    "    return unit_step_function(np.dot(X,W)+b)"
   ]
  },
  {
   "cell_type": "code",
   "execution_count": 7,
   "id": "ac7712fe",
   "metadata": {},
   "outputs": [],
   "source": [
    "def perceptron_fit(X, Y):\n",
    "    n_samples, n_features = X.shape\n",
    "    W = np.zeros((n_features,1))\n",
    "    b = np.zeros((n_features,1))\n",
    "    Y_ = np.where(Y>=0, 1, 0)\n",
    "    for _ in range(1000):\n",
    "        for idx, x_i in enumeraterate(X):\n",
    "            linear_output = np.dot(x_i, W) + b\n",
    "            y_predicted = unit_step_function(linear_output)\n",
    "            W = W + learning_rate * (Y_[idx] - y_predicted) * x_i\n",
    "            b = b + learning_rate * (Y_[idx] - y_predicted)\n",
    "            \n",
    "            \n",
    "\n",
    "            \n",
    "            "
   ]
  },
  {
   "cell_type": "code",
   "execution_count": 8,
   "id": "851e060e",
   "metadata": {},
   "outputs": [],
   "source": [
    "X, Y =  datasets.make_blobs(n_samples = 150, n_features = 2, centers=2, cluster_std=1.05, random_state=2)"
   ]
  },
  {
   "cell_type": "code",
   "execution_count": null,
   "id": "da017388",
   "metadata": {},
   "outputs": [],
   "source": []
  }
 ],
 "metadata": {
  "kernelspec": {
   "display_name": "Python 3",
   "language": "python",
   "name": "python3"
  },
  "language_info": {
   "codemirror_mode": {
    "name": "ipython",
    "version": 3
   },
   "file_extension": ".py",
   "mimetype": "text/x-python",
   "name": "python",
   "nbconvert_exporter": "python",
   "pygments_lexer": "ipython3",
   "version": "3.8.8"
  }
 },
 "nbformat": 4,
 "nbformat_minor": 5
}
